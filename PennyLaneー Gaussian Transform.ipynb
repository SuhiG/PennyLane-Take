{
 "cells": [
  {
   "cell_type": "code",
   "execution_count": 1,
   "id": "latest-kuwait",
   "metadata": {},
   "outputs": [],
   "source": [
    "import pennylane as qml\n",
    "from pennylane import numpy as np"
   ]
  },
  {
   "cell_type": "code",
   "execution_count": 2,
   "id": "changed-water",
   "metadata": {},
   "outputs": [],
   "source": [
    "dev_gaussian = qml.device(\"default.gaussian\", wires =1)"
   ]
  },
  {
   "cell_type": "code",
   "execution_count": 10,
   "id": "major-client",
   "metadata": {},
   "outputs": [],
   "source": [
    "@qml.qnode(dev_gaussian)\n",
    "def mean_photon_gaussian(mag_alpha, phase_alpha, phi):\n",
    "    qml.Displacement(mag_alpha, phase_alpha, wires = 0)\n",
    "    qml.Rotation(phi, wires = 0)\n",
    "    return qml.expval(qml.NumberOperator(0))"
   ]
  },
  {
   "cell_type": "markdown",
   "id": "later-occupation",
   "metadata": {},
   "source": [
    "in this case mag_alpha & phase_alpha together makes a complex number"
   ]
  },
  {
   "cell_type": "code",
   "execution_count": 11,
   "id": "abroad-shelter",
   "metadata": {},
   "outputs": [],
   "source": [
    "def cost(params):\n",
    "    return (mean_photon_gaussian(params[0], params[1], params[2]) - 1.0) ** 2"
   ]
  },
  {
   "cell_type": "code",
   "execution_count": 12,
   "id": "potential-hearing",
   "metadata": {},
   "outputs": [
    {
     "name": "stdout",
     "output_type": "stream",
     "text": [
      "0.9995500506249999\n"
     ]
    }
   ],
   "source": [
    "init_params = [0.015, 0.02, 0.005]\n",
    "print(cost(init_params))"
   ]
  },
  {
   "cell_type": "code",
   "execution_count": 13,
   "id": "superior-intention",
   "metadata": {},
   "outputs": [],
   "source": [
    "opt = qml.GradientDescentOptimizer(stepsize = 0.1)"
   ]
  },
  {
   "cell_type": "code",
   "execution_count": 14,
   "id": "regional-platform",
   "metadata": {},
   "outputs": [],
   "source": [
    "steps = 20"
   ]
  },
  {
   "cell_type": "code",
   "execution_count": 15,
   "id": "driven-driving",
   "metadata": {},
   "outputs": [],
   "source": [
    "params = init_params"
   ]
  },
  {
   "cell_type": "code",
   "execution_count": 16,
   "id": "differential-nelson",
   "metadata": {},
   "outputs": [
    {
     "name": "stdout",
     "output_type": "stream",
     "text": [
      "cost after step     1: 0.999118\n",
      "cost after step     2: 0.998273\n",
      "cost after step     3: 0.996618\n",
      "cost after step     4: 0.993382\n",
      "cost after step     5: 0.987074\n",
      "cost after step     6: 0.974837\n",
      "cost after step     7: 0.951332\n",
      "cost after step     8: 0.907043\n",
      "cost after step     9: 0.826649\n",
      "cost after step    10: 0.690812\n",
      "cost after step    11: 0.490303\n",
      "cost after step    12: 0.258845\n",
      "cost after step    13: 0.083224\n",
      "cost after step    14: 0.013179\n",
      "cost after step    15: 0.001001\n",
      "cost after step    16: 0.000049\n",
      "cost after step    17: 0.000002\n",
      "cost after step    18: 0.000000\n",
      "cost after step    19: 0.000000\n",
      "cost after step    20: 0.000000\n",
      "Optimised mag_alpha: 0.999994\n",
      "Optimised phase_alpha: 0.020000\n",
      "Optimised phi: 0.005000\n"
     ]
    }
   ],
   "source": [
    "for i in range(steps):\n",
    "    params = opt.step(cost, params)\n",
    "    \n",
    "    print(\"cost after step {:5d}: {:8f}\".format(i + 1, cost(params)))\n",
    "    \n",
    "print(\"Optimised mag_alpha: {:8f}\".format(params[0]))\n",
    "print(\"Optimised phase_alpha: {:8f}\".format(params[1]))\n",
    "print(\"Optimised phi: {:8f}\".format(params[2]))"
   ]
  },
  {
   "cell_type": "code",
   "execution_count": null,
   "id": "abstract-style",
   "metadata": {},
   "outputs": [],
   "source": []
  }
 ],
 "metadata": {
  "kernelspec": {
   "display_name": "Python 3",
   "language": "python",
   "name": "python3"
  },
  "language_info": {
   "codemirror_mode": {
    "name": "ipython",
    "version": 3
   },
   "file_extension": ".py",
   "mimetype": "text/x-python",
   "name": "python",
   "nbconvert_exporter": "python",
   "pygments_lexer": "ipython3",
   "version": "3.8.5"
  }
 },
 "nbformat": 4,
 "nbformat_minor": 5
}
