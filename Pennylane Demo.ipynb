{
 "cells": [
  {
   "cell_type": "code",
   "execution_count": 95,
   "id": "intense-diameter",
   "metadata": {},
   "outputs": [],
   "source": [
    "import pennylane as qml\n",
    "\n",
    "def qfunc(x, y):\n",
    "    qml.RX(x, wires=0)\n",
    "    qml.RY(y,wires=0)\n",
    "    return qml.expval(qml.PauliZ(0))"
   ]
  },
  {
   "cell_type": "code",
   "execution_count": 96,
   "id": "computational-recruitment",
   "metadata": {},
   "outputs": [
    {
     "data": {
      "text/plain": [
       "expval(PauliZ(wires=[0]))"
      ]
     },
     "execution_count": 96,
     "metadata": {},
     "output_type": "execute_result"
    }
   ],
   "source": [
    "qfunc(0.1,0.2)"
   ]
  },
  {
   "cell_type": "code",
   "execution_count": 97,
   "id": "motivated-hepatitis",
   "metadata": {},
   "outputs": [],
   "source": [
    "dev = qml.device(\"default.qubit\",wires = 2)"
   ]
  },
  {
   "cell_type": "code",
   "execution_count": 98,
   "id": "buried-carroll",
   "metadata": {},
   "outputs": [],
   "source": [
    "@qml.qnode(dev)\n",
    "def qfunc(x, y):\n",
    "    qml.RX(x, wires=0)\n",
    "    qml.RY(y,wires=0)\n",
    "    return qml.expval(qml.PauliZ(0))"
   ]
  },
  {
   "cell_type": "code",
   "execution_count": 99,
   "id": "sexual-benjamin",
   "metadata": {},
   "outputs": [
    {
     "data": {
      "text/plain": [
       "tensor(0.97517033, requires_grad=True)"
      ]
     },
     "execution_count": 99,
     "metadata": {},
     "output_type": "execute_result"
    }
   ],
   "source": [
    "qfunc(0.1,0.2)"
   ]
  },
  {
   "cell_type": "code",
   "execution_count": 100,
   "id": "polished-brazilian",
   "metadata": {},
   "outputs": [
    {
     "data": {
      "text/plain": [
       "<pennylane.tape.qnode.QNode at 0x2815d888b80>"
      ]
     },
     "execution_count": 100,
     "metadata": {},
     "output_type": "execute_result"
    }
   ],
   "source": [
    "qfunc"
   ]
  },
  {
   "cell_type": "code",
   "execution_count": 101,
   "id": "posted-lancaster",
   "metadata": {},
   "outputs": [
    {
     "name": "stdout",
     "output_type": "stream",
     "text": [
      " 0: ──RX(0.1)──RY(0.2)──┤ ⟨Z⟩ \n",
      "\n"
     ]
    }
   ],
   "source": [
    "print(qml.draw(qfunc)(0.1,0.2))"
   ]
  },
  {
   "cell_type": "code",
   "execution_count": 102,
   "id": "plastic-effects",
   "metadata": {},
   "outputs": [],
   "source": [
    "@qml.qnode(dev)\n",
    "def qfunc(x, y):\n",
    "    qml.RX(x, wires=0)\n",
    "    qml.RY(y,wires=1)\n",
    "    qml.CNOT(wires=[0,1])\n",
    "    return qml.expval(qml.PauliZ(0)), qml.var(qml.PauliX(1))"
   ]
  },
  {
   "cell_type": "code",
   "execution_count": 103,
   "id": "hundred-plaza",
   "metadata": {},
   "outputs": [
    {
     "data": {
      "text/plain": [
       "tensor([0.99500417, 0.9605305 ], requires_grad=True)"
      ]
     },
     "execution_count": 103,
     "metadata": {},
     "output_type": "execute_result"
    }
   ],
   "source": [
    "qfunc(0.1,0.2)"
   ]
  },
  {
   "cell_type": "code",
   "execution_count": 104,
   "id": "twenty-billy",
   "metadata": {},
   "outputs": [
    {
     "name": "stdout",
     "output_type": "stream",
     "text": [
      " 0: ──RX(0.1)──╭C──┤ ⟨Z⟩    \n",
      " 1: ──RY(0.2)──╰X──┤ Var[X] \n",
      "\n"
     ]
    }
   ],
   "source": [
    "print(qml.draw(qfunc)(0.1,0.2))"
   ]
  },
  {
   "cell_type": "code",
   "execution_count": 105,
   "id": "alpine-prime",
   "metadata": {},
   "outputs": [],
   "source": [
    "@qml.qnode(dev)\n",
    "def qfunc(x, y):\n",
    "    qml.RX(x, wires=0)\n",
    "    qml.RY(y,wires=1)\n",
    "    qml.CNOT(wires=[0,1])\n",
    "    return qml.probs(wires=[0,1])"
   ]
  },
  {
   "cell_type": "code",
   "execution_count": 106,
   "id": "romance-graduation",
   "metadata": {},
   "outputs": [
    {
     "data": {
      "text/plain": [
       "tensor([9.87560268e-01, 9.94181506e-03, 2.48960206e-05, 2.47302134e-03], requires_grad=True)"
      ]
     },
     "execution_count": 106,
     "metadata": {},
     "output_type": "execute_result"
    }
   ],
   "source": [
    "qfunc(0.1,0.2)"
   ]
  },
  {
   "cell_type": "code",
   "execution_count": 107,
   "id": "numerous-heaven",
   "metadata": {},
   "outputs": [],
   "source": [
    "@qml.qnode(dev)\n",
    "def qfunc(x, y):\n",
    "    qml.RX(x, wires=0)\n",
    "    qml.RY(y,wires=1)\n",
    "    qml.CNOT(wires=[0,1])\n",
    "    return qml.probs(wires=[0]),qml.probs(wires=[1])"
   ]
  },
  {
   "cell_type": "code",
   "execution_count": 108,
   "id": "tropical-student",
   "metadata": {},
   "outputs": [
    {
     "data": {
      "text/plain": [
       "tensor([[0.99750208, 0.00249792],\n",
       "        [0.98758516, 0.01241484]], requires_grad=True)"
      ]
     },
     "execution_count": 108,
     "metadata": {},
     "output_type": "execute_result"
    }
   ],
   "source": [
    "qfunc(0.1,0.2)"
   ]
  },
  {
   "cell_type": "code",
   "execution_count": 109,
   "id": "continental-society",
   "metadata": {},
   "outputs": [],
   "source": [
    "@qml.qnode(dev)\n",
    "def qfunc(x, y):\n",
    "    qml.RX(x, wires=0)\n",
    "    qml.RY(y,wires=1)\n",
    "    qml.CNOT(wires=[0,1])\n",
    "    return qml.state()"
   ]
  },
  {
   "cell_type": "code",
   "execution_count": 110,
   "id": "arbitrary-hostel",
   "metadata": {},
   "outputs": [
    {
     "data": {
      "text/plain": [
       "tensor([0.99376067+0.j        , 0.09970865+0.j        ,\n",
       "        0.        -0.00498959j, 0.        -0.04972948j], requires_grad=True)"
      ]
     },
     "execution_count": 110,
     "metadata": {},
     "output_type": "execute_result"
    }
   ],
   "source": [
    "qfunc(0.1,0.2)"
   ]
  },
  {
   "cell_type": "code",
   "execution_count": 111,
   "id": "secure-external",
   "metadata": {},
   "outputs": [],
   "source": [
    "dev = qml.device(\"default.qubit\",wires = 2,analytic = False, shots = 100)"
   ]
  },
  {
   "cell_type": "code",
   "execution_count": 112,
   "id": "postal-multimedia",
   "metadata": {},
   "outputs": [],
   "source": [
    "@qml.qnode(dev)\n",
    "def qfunc(x, y):\n",
    "    qml.RX(x, wires=0)\n",
    "    qml.RY(y,wires=0)\n",
    "    return qml.expval(qml.PauliZ(0))"
   ]
  },
  {
   "cell_type": "code",
   "execution_count": 113,
   "id": "unavailable-refund",
   "metadata": {},
   "outputs": [
    {
     "data": {
      "text/plain": [
       "tensor(1., requires_grad=True)"
      ]
     },
     "execution_count": 113,
     "metadata": {},
     "output_type": "execute_result"
    }
   ],
   "source": [
    "qfunc(0.1,0.2)"
   ]
  },
  {
   "cell_type": "code",
   "execution_count": 114,
   "id": "grand-report",
   "metadata": {},
   "outputs": [
    {
     "data": {
      "text/plain": [
       "tensor(0.94, requires_grad=True)"
      ]
     },
     "execution_count": 114,
     "metadata": {},
     "output_type": "execute_result"
    }
   ],
   "source": [
    "qfunc(0.1,0.2)"
   ]
  },
  {
   "cell_type": "code",
   "execution_count": 115,
   "id": "further-marine",
   "metadata": {},
   "outputs": [
    {
     "data": {
      "text/plain": [
       "tensor(0.96, requires_grad=True)"
      ]
     },
     "execution_count": 115,
     "metadata": {},
     "output_type": "execute_result"
    }
   ],
   "source": [
    "qfunc(0.1,0.2)"
   ]
  },
  {
   "cell_type": "code",
   "execution_count": 116,
   "id": "agricultural-relation",
   "metadata": {},
   "outputs": [
    {
     "data": {
      "text/plain": [
       "tensor(0.98, requires_grad=True)"
      ]
     },
     "execution_count": 116,
     "metadata": {},
     "output_type": "execute_result"
    }
   ],
   "source": [
    "qfunc(0.1,0.2)"
   ]
  },
  {
   "cell_type": "code",
   "execution_count": 117,
   "id": "heard-african",
   "metadata": {},
   "outputs": [
    {
     "data": {
      "text/plain": [
       "tensor(0.98, requires_grad=True)"
      ]
     },
     "execution_count": 117,
     "metadata": {},
     "output_type": "execute_result"
    }
   ],
   "source": [
    "qfunc(0.1,0.2)"
   ]
  },
  {
   "cell_type": "code",
   "execution_count": 118,
   "id": "necessary-automation",
   "metadata": {},
   "outputs": [
    {
     "data": {
      "text/plain": [
       "tensor(1., requires_grad=True)"
      ]
     },
     "execution_count": 118,
     "metadata": {},
     "output_type": "execute_result"
    }
   ],
   "source": [
    "qfunc(0.1,0.2)"
   ]
  },
  {
   "cell_type": "code",
   "execution_count": 119,
   "id": "bored-polymer",
   "metadata": {},
   "outputs": [],
   "source": [
    "dev = qml.device(\"default.qubit\",wires = 2,analytic = False, shots = 1000)"
   ]
  },
  {
   "cell_type": "code",
   "execution_count": 120,
   "id": "liked-recall",
   "metadata": {},
   "outputs": [],
   "source": [
    "@qml.qnode(dev)\n",
    "def qfunc(x, y):\n",
    "    qml.RX(x, wires=0)\n",
    "    qml.RY(y,wires=0)\n",
    "    return qml.expval(qml.PauliZ(0))"
   ]
  },
  {
   "cell_type": "code",
   "execution_count": 121,
   "id": "royal-mobile",
   "metadata": {},
   "outputs": [
    {
     "data": {
      "text/plain": [
       "tensor(0.978, requires_grad=True)"
      ]
     },
     "execution_count": 121,
     "metadata": {},
     "output_type": "execute_result"
    }
   ],
   "source": [
    "qfunc(0.1,0.2)"
   ]
  },
  {
   "cell_type": "code",
   "execution_count": 122,
   "id": "smooth-express",
   "metadata": {},
   "outputs": [
    {
     "data": {
      "text/plain": [
       "tensor(0.986, requires_grad=True)"
      ]
     },
     "execution_count": 122,
     "metadata": {},
     "output_type": "execute_result"
    }
   ],
   "source": [
    "qfunc(0.1,0.2)"
   ]
  },
  {
   "cell_type": "code",
   "execution_count": 123,
   "id": "human-discussion",
   "metadata": {},
   "outputs": [
    {
     "data": {
      "text/plain": [
       "tensor(0.974, requires_grad=True)"
      ]
     },
     "execution_count": 123,
     "metadata": {},
     "output_type": "execute_result"
    }
   ],
   "source": [
    "qfunc(0.1,0.2)"
   ]
  },
  {
   "cell_type": "code",
   "execution_count": 124,
   "id": "inclusive-search",
   "metadata": {},
   "outputs": [
    {
     "data": {
      "text/plain": [
       "tensor(0.976, requires_grad=True)"
      ]
     },
     "execution_count": 124,
     "metadata": {},
     "output_type": "execute_result"
    }
   ],
   "source": [
    "qfunc(0.1,0.2)"
   ]
  },
  {
   "cell_type": "code",
   "execution_count": 125,
   "id": "ideal-memorabilia",
   "metadata": {},
   "outputs": [
    {
     "data": {
      "text/plain": [
       "tensor(0.972, requires_grad=True)"
      ]
     },
     "execution_count": 125,
     "metadata": {},
     "output_type": "execute_result"
    }
   ],
   "source": [
    "qfunc(0.1,0.2)"
   ]
  },
  {
   "cell_type": "markdown",
   "id": "printable-request",
   "metadata": {},
   "source": [
    "# VQC for calculating gradients"
   ]
  },
  {
   "cell_type": "code",
   "execution_count": 126,
   "id": "cardiac-reservation",
   "metadata": {},
   "outputs": [],
   "source": [
    "dev = qml.device(\"default.qubit\",wires = 2)"
   ]
  },
  {
   "cell_type": "code",
   "execution_count": 127,
   "id": "exclusive-columbus",
   "metadata": {},
   "outputs": [],
   "source": [
    "@qml.qnode(dev)\n",
    "def circuit(params):\n",
    "    qml.RX(params[0], wires=0)\n",
    "    qml.RY(params[1],wires=1)\n",
    "    qml.CNOT(wires = [0,1])\n",
    "    qml.RZ(params[2], wires = 0)\n",
    "    qml.RZ(params[2], wires = 1)\n",
    "    qml.CNOT(wires = [1,0])\n",
    "    qml.Hadamard(wires = 0)\n",
    "    return qml.expval(qml.PauliZ(0) @ qml.PauliX(1)) # tensor product"
   ]
  },
  {
   "cell_type": "code",
   "execution_count": 128,
   "id": "institutional-representation",
   "metadata": {},
   "outputs": [],
   "source": [
    "from pennylane import numpy as np #enables automatic diff"
   ]
  },
  {
   "cell_type": "code",
   "execution_count": 129,
   "id": "imperial-anxiety",
   "metadata": {},
   "outputs": [],
   "source": [
    "params = np.array([0.1,0.2,0.3], requires_grad = True)"
   ]
  },
  {
   "cell_type": "code",
   "execution_count": 130,
   "id": "declared-music",
   "metadata": {},
   "outputs": [
    {
     "data": {
      "text/plain": [
       "tensor(0.18979606, requires_grad=True)"
      ]
     },
     "execution_count": 130,
     "metadata": {},
     "output_type": "execute_result"
    }
   ],
   "source": [
    "circuit(params)"
   ]
  },
  {
   "cell_type": "code",
   "execution_count": 131,
   "id": "weird-reality",
   "metadata": {},
   "outputs": [],
   "source": [
    "grad_fn = qml.grad(circuit)"
   ]
  },
  {
   "cell_type": "code",
   "execution_count": 132,
   "id": "manufactured-drive",
   "metadata": {},
   "outputs": [
    {
     "data": {
      "text/plain": [
       "<pennylane._grad.grad at 0x2815d87e820>"
      ]
     },
     "execution_count": 132,
     "metadata": {},
     "output_type": "execute_result"
    }
   ],
   "source": [
    "grad_fn"
   ]
  },
  {
   "cell_type": "code",
   "execution_count": 133,
   "id": "understood-disposal",
   "metadata": {},
   "outputs": [
    {
     "data": {
      "text/plain": [
       "(array([-3.81639165e-17,  9.36293364e-01, -5.87108017e-02]),)"
      ]
     },
     "execution_count": 133,
     "metadata": {},
     "output_type": "execute_result"
    }
   ],
   "source": [
    "grad_fn(params)"
   ]
  },
  {
   "cell_type": "code",
   "execution_count": 134,
   "id": "christian-graduation",
   "metadata": {},
   "outputs": [],
   "source": [
    "#parameter shift rule - checking the gradients manually"
   ]
  },
  {
   "cell_type": "code",
   "execution_count": 135,
   "id": "introductory-basics",
   "metadata": {},
   "outputs": [],
   "source": [
    "shift = np.array([0, 0, np.pi/2])"
   ]
  },
  {
   "cell_type": "code",
   "execution_count": 136,
   "id": "fifth-trick",
   "metadata": {},
   "outputs": [
    {
     "data": {
      "text/plain": [
       "tensor(-0.0587108, requires_grad=True)"
      ]
     },
     "execution_count": 136,
     "metadata": {},
     "output_type": "execute_result"
    }
   ],
   "source": [
    "(circuit(params+shift)- circuit(params - shift))/2"
   ]
  },
  {
   "cell_type": "code",
   "execution_count": null,
   "id": "straight-major",
   "metadata": {},
   "outputs": [],
   "source": []
  },
  {
   "cell_type": "code",
   "execution_count": 137,
   "id": "framed-fitness",
   "metadata": {},
   "outputs": [],
   "source": [
    "def cost(params, y):\n",
    "    output_quantum = circuit(np.sin(params) + y)\n",
    "    return np.cos(output_quantum) ** 3"
   ]
  },
  {
   "cell_type": "code",
   "execution_count": 138,
   "id": "preceding-glance",
   "metadata": {},
   "outputs": [
    {
     "data": {
      "text/plain": [
       "tensor(0.72989252, requires_grad=True)"
      ]
     },
     "execution_count": 138,
     "metadata": {},
     "output_type": "execute_result"
    }
   ],
   "source": [
    "cost(params, 0.5)"
   ]
  },
  {
   "cell_type": "code",
   "execution_count": 139,
   "id": "powerful-shock",
   "metadata": {},
   "outputs": [],
   "source": [
    "grad_fn = qml.grad(circuit)"
   ]
  },
  {
   "cell_type": "code",
   "execution_count": 140,
   "id": "broad-temple",
   "metadata": {},
   "outputs": [],
   "source": [
    "grad_fn = qml.grad(cost)"
   ]
  },
  {
   "cell_type": "code",
   "execution_count": 141,
   "id": "spoken-tackle",
   "metadata": {},
   "outputs": [
    {
     "data": {
      "text/plain": [
       "(tensor([ 8.28507400e-17, -5.55825356e-01,  4.64428974e-01], requires_grad=True),\n",
       " array(-0.08098843))"
      ]
     },
     "execution_count": 141,
     "metadata": {},
     "output_type": "execute_result"
    }
   ],
   "source": [
    "grad_fn(params,0.5)"
   ]
  },
  {
   "cell_type": "markdown",
   "id": "recovered-joyce",
   "metadata": {},
   "source": [
    "# optimisation"
   ]
  },
  {
   "cell_type": "code",
   "execution_count": 142,
   "id": "super-shooting",
   "metadata": {},
   "outputs": [],
   "source": [
    "dev = qml.device(\"default.qubit\",wires = 1)"
   ]
  },
  {
   "cell_type": "code",
   "execution_count": 143,
   "id": "genetic-rogers",
   "metadata": {},
   "outputs": [],
   "source": [
    "@qml.qnode(dev)\n",
    "def qfunc(params):\n",
    "    qml.RX(params[0], wires = 0)\n",
    "    qml.RY(params[1], wires = 0)\n",
    "    return qml.probs(wires = 0)"
   ]
  },
  {
   "cell_type": "code",
   "execution_count": 144,
   "id": "searching-floor",
   "metadata": {},
   "outputs": [],
   "source": [
    "params = np.array([0.1,0.2], requires_grad = True)"
   ]
  },
  {
   "cell_type": "code",
   "execution_count": 145,
   "id": "fuzzy-avatar",
   "metadata": {},
   "outputs": [
    {
     "data": {
      "text/plain": [
       "tensor([0.98758516, 0.01241484], requires_grad=True)"
      ]
     },
     "execution_count": 145,
     "metadata": {},
     "output_type": "execute_result"
    }
   ],
   "source": [
    "qfunc(params)"
   ]
  },
  {
   "cell_type": "code",
   "execution_count": 147,
   "id": "civilian-partner",
   "metadata": {},
   "outputs": [],
   "source": [
    "# optimising the circuit to measure the circuit in the excited state"
   ]
  },
  {
   "cell_type": "code",
   "execution_count": 148,
   "id": "distant-editing",
   "metadata": {},
   "outputs": [],
   "source": [
    "def cost(params):\n",
    "    output = qfunc(params)\n",
    "    return output[0] - output[1]"
   ]
  },
  {
   "cell_type": "code",
   "execution_count": 149,
   "id": "improving-lingerie",
   "metadata": {},
   "outputs": [
    {
     "data": {
      "text/plain": [
       "tensor(0.97517033, requires_grad=True)"
      ]
     },
     "execution_count": 149,
     "metadata": {},
     "output_type": "execute_result"
    }
   ],
   "source": [
    "cost(params)"
   ]
  },
  {
   "cell_type": "code",
   "execution_count": 150,
   "id": "documented-certification",
   "metadata": {},
   "outputs": [],
   "source": [
    "opt = qml.GradientDescentOptimizer(0.1)"
   ]
  },
  {
   "cell_type": "code",
   "execution_count": 151,
   "id": "applicable-marketplace",
   "metadata": {},
   "outputs": [
    {
     "name": "stdout",
     "output_type": "stream",
     "text": [
      "step0, cost 0.9751703272018162\n",
      "step1, cost 0.9700726698587928\n",
      "step2, cost 0.9639570957069223\n",
      "step3, cost 0.9566331225488502\n",
      "step4, cost 0.9478802437539097\n",
      "step5, cost 0.9374456604955514\n",
      "step6, cost 0.9250430023927451\n",
      "step7, cost 0.9103526578101176\n",
      "step8, cost 0.8930245009217394\n",
      "step9, cost 0.872683943543075\n",
      "step10, cost 0.8489423007018884\n",
      "step11, cost 0.8214123584732697\n",
      "step12, cost 0.7897296674235479\n",
      "step13, cost 0.7535793508704921\n",
      "step14, cost 0.7127270543099405\n",
      "step15, cost 0.6670511268211622\n",
      "step16, cost 0.6165714702566927\n",
      "step17, cost 0.5614692154133246\n",
      "step18, cost 0.5020911734926485\n",
      "step19, cost 0.43893452463795785\n",
      "step20, cost 0.3726107064712659\n",
      "step21, cost 0.30379245673770644\n",
      "step22, cost 0.23315308378844063\n",
      "step23, cost 0.1613104322977743\n",
      "step24, cost 0.08878811794940683\n",
      "step25, cost 0.016002955347644954\n",
      "step26, cost -0.05671896805439741\n",
      "step27, cost -0.12910246618516108\n",
      "step28, cost -0.20087065270467575\n",
      "step29, cost -0.2716937585053097\n",
      "step30, cost -0.34115320064510507\n",
      "step31, cost -0.4087309408432556\n",
      "step32, cost -0.47382785486916756\n",
      "step33, cost -0.5358075519381679\n",
      "step34, cost -0.5940557980868182\n",
      "step35, cost -0.6480422421113148\n",
      "step36, cost -0.697371501754336\n",
      "step37, cost -0.7418144863517872\n",
      "step38, cost -0.7813165411133307\n",
      "step39, cost -0.8159845537412075\n",
      "step40, cost -0.8460589566262144\n",
      "step41, cost -0.8718779623915554\n",
      "step42, cost -0.8938407187555804\n",
      "step43, cost -0.9123742175986177\n",
      "step44, cost -0.9279066333513396\n",
      "step45, cost -0.9408479146045983\n",
      "step46, cost -0.9515771818711685\n",
      "step47, cost -0.960435800529552\n",
      "step48, cost -0.9677247695015264\n",
      "step49, cost -0.9737051263840729\n"
     ]
    }
   ],
   "source": [
    "for i in range(50):\n",
    "    params, cost_val = opt.step_and_cost(cost, params)\n",
    "    print(F\"step{i}, cost {cost_val}\")"
   ]
  },
  {
   "cell_type": "code",
   "execution_count": 154,
   "id": "complicated-medicine",
   "metadata": {},
   "outputs": [
    {
     "data": {
      "text/plain": [
       "tensor([0.09887443, 2.95914923], requires_grad=True)"
      ]
     },
     "execution_count": 154,
     "metadata": {},
     "output_type": "execute_result"
    }
   ],
   "source": [
    "params #updated parameters"
   ]
  },
  {
   "cell_type": "code",
   "execution_count": 155,
   "id": "filled-voice",
   "metadata": {},
   "outputs": [
    {
     "data": {
      "text/plain": [
       "tensor([0.01069986, 0.98930014], requires_grad=True)"
      ]
     },
     "execution_count": 155,
     "metadata": {},
     "output_type": "execute_result"
    }
   ],
   "source": [
    "qfunc(params)"
   ]
  },
  {
   "cell_type": "code",
   "execution_count": 156,
   "id": "adjacent-interval",
   "metadata": {},
   "outputs": [],
   "source": [
    "# plugins and devcices"
   ]
  },
  {
   "cell_type": "code",
   "execution_count": 157,
   "id": "macro-guarantee",
   "metadata": {},
   "outputs": [
    {
     "name": "stdout",
     "output_type": "stream",
     "text": [
      "Collecting amazon-braket-pennylane-pluginNote: you may need to restart the kernel to use updated packages.\n",
      "  Downloading amazon_braket_pennylane_plugin-1.1.0-py3-none-any.whl (18 kB)\n",
      "Requirement already satisfied: pennylane>=0.13.0 in d:\\anaconda\\envs\\tokyotech\\lib\\site-packages (from amazon-braket-pennylane-plugin) (0.14.0)\n",
      "Collecting amazon-braket-sdk>=1.5.0\n",
      "  Downloading amazon_braket_sdk-1.5.9-py3-none-any.whl (82 kB)\n",
      "Requirement already satisfied: nest-asyncio in d:\\anaconda\\envs\\tokyotech\\lib\\site-packages (from amazon-braket-sdk>=1.5.0->amazon-braket-pennylane-plugin) (1.4.3)\n",
      "Requirement already satisfied: numpy in d:\\anaconda\\envs\\tokyotech\\lib\\site-packages (from amazon-braket-sdk>=1.5.0->amazon-braket-pennylane-plugin) (1.19.5)\n",
      "Requirement already satisfied: networkx in d:\\anaconda\\envs\\tokyotech\\lib\\site-packages (from amazon-braket-sdk>=1.5.0->amazon-braket-pennylane-plugin) (2.5)\n",
      "Requirement already satisfied: toml in d:\\anaconda\\envs\\tokyotech\\lib\\site-packages (from pennylane>=0.13.0->amazon-braket-pennylane-plugin) (0.10.1)\n",
      "Requirement already satisfied: scipy in d:\\anaconda\\envs\\tokyotech\\lib\\site-packages (from pennylane>=0.13.0->amazon-braket-pennylane-plugin) (1.5.4)\n",
      "Requirement already satisfied: autograd in d:\\anaconda\\envs\\tokyotech\\lib\\site-packages (from pennylane>=0.13.0->amazon-braket-pennylane-plugin) (1.3)\n",
      "Requirement already satisfied: semantic-version==2.6 in d:\\anaconda\\envs\\tokyotech\\lib\\site-packages (from pennylane>=0.13.0->amazon-braket-pennylane-plugin) (2.6.0)\n",
      "Requirement already satisfied: appdirs in d:\\anaconda\\envs\\tokyotech\\lib\\site-packages (from pennylane>=0.13.0->amazon-braket-pennylane-plugin) (1.4.4)\n",
      "Collecting amazon-braket-default-simulator\n",
      "  Downloading amazon_braket_default_simulator-1.1.1-py3-none-any.whl (32 kB)\n",
      "Collecting amazon-braket-schemas\n",
      "  Downloading amazon_braket_schemas-1.1.0.post2-py3-none-any.whl (60 kB)\n",
      "Requirement already satisfied: future>=0.15.2 in d:\\anaconda\\envs\\tokyotech\\lib\\site-packages (from autograd->pennylane>=0.13.0->amazon-braket-pennylane-plugin) (0.18.2)\n",
      "Collecting backoff\n",
      "  Downloading backoff-1.10.0-py2.py3-none-any.whl (31 kB)\n",
      "Collecting boltons\n",
      "  Downloading boltons-20.2.1-py2.py3-none-any.whl (170 kB)\n",
      "Collecting boto3\n",
      "  Downloading boto3-1.17.10-py2.py3-none-any.whl (130 kB)\n",
      "Collecting botocore<1.21.0,>=1.20.10\n",
      "  Downloading botocore-1.20.10-py2.py3-none-any.whl (7.2 MB)\n",
      "Requirement already satisfied: urllib3<1.27,>=1.25.4 in d:\\anaconda\\envs\\tokyotech\\lib\\site-packages (from botocore<1.21.0,>=1.20.10->boto3->amazon-braket-sdk>=1.5.0->amazon-braket-pennylane-plugin) (1.26.2)\n",
      "Requirement already satisfied: python-dateutil<3.0.0,>=2.1 in d:\\anaconda\\envs\\tokyotech\\lib\\site-packages (from botocore<1.21.0,>=1.20.10->boto3->amazon-braket-sdk>=1.5.0->amazon-braket-pennylane-plugin) (2.8.1)\n",
      "Collecting jmespath<1.0.0,>=0.7.1\n",
      "  Downloading jmespath-0.10.0-py2.py3-none-any.whl (24 kB)\n",
      "Requirement already satisfied: six>=1.5 in d:\\anaconda\\envs\\tokyotech\\lib\\site-packages (from python-dateutil<3.0.0,>=2.1->botocore<1.21.0,>=1.20.10->boto3->amazon-braket-sdk>=1.5.0->amazon-braket-pennylane-plugin) (1.15.0)\n",
      "Collecting s3transfer<0.4.0,>=0.3.0\n",
      "  Downloading s3transfer-0.3.4-py2.py3-none-any.whl (69 kB)\n",
      "Requirement already satisfied: decorator>=4.3.0 in d:\\anaconda\\envs\\tokyotech\\lib\\site-packages (from networkx->amazon-braket-sdk>=1.5.0->amazon-braket-pennylane-plugin) (4.4.2)\n",
      "Collecting opt-einsum\n",
      "  Downloading opt_einsum-3.3.0-py3-none-any.whl (65 kB)\n",
      "Collecting pydantic\n",
      "  Downloading pydantic-1.7.3-cp38-cp38-win_amd64.whl (1.8 MB)\n",
      "Installing collected packages: jmespath, pydantic, botocore, s3transfer, opt-einsum, amazon-braket-schemas, boto3, boltons, backoff, amazon-braket-default-simulator, amazon-braket-sdk, amazon-braket-pennylane-plugin\n",
      "Successfully installed amazon-braket-default-simulator-1.1.1 amazon-braket-pennylane-plugin-1.1.0 amazon-braket-schemas-1.1.0.post2 amazon-braket-sdk-1.5.9 backoff-1.10.0 boltons-20.2.1 boto3-1.17.10 botocore-1.20.10 jmespath-0.10.0 opt-einsum-3.3.0 pydantic-1.7.3 s3transfer-0.3.4\n",
      "\n"
     ]
    }
   ],
   "source": [
    "pip install amazon-braket-pennylane-plugin"
   ]
  },
  {
   "cell_type": "code",
   "execution_count": 183,
   "id": "necessary-aquatic",
   "metadata": {},
   "outputs": [],
   "source": [
    "device_braket = qml.device(\"braket.local.qubit\",wires = 2, shots = 1000)"
   ]
  },
  {
   "cell_type": "code",
   "execution_count": 184,
   "id": "appreciated-complexity",
   "metadata": {},
   "outputs": [],
   "source": [
    "@qml.qnode(device_braket)\n",
    "def circuit_qubit(params):\n",
    "    qml.RX(params[0],wires = 0)\n",
    "    qml.RY(params[0],wires = 0)\n",
    "    qml.CNOT(wires = [0,1])\n",
    "    qml.Hadamard(wires = 1)\n",
    "    return qml.expval(qml.PauliY(1))"
   ]
  },
  {
   "cell_type": "code",
   "execution_count": 185,
   "id": "catholic-daughter",
   "metadata": {},
   "outputs": [],
   "source": [
    "dev_photonic = qml.device(\"default.gaussian\",wires = 2)"
   ]
  },
  {
   "cell_type": "code",
   "execution_count": 186,
   "id": "jewish-murder",
   "metadata": {},
   "outputs": [],
   "source": [
    "@qml.qnode(dev_photonic)\n",
    "def circuit_photonic(x,y):\n",
    "    qml.Squeezing(x,0,wires = 0)\n",
    "    qml.Beamsplitter(y,0,wires=[0,1])\n",
    "    return qml.expval(qml.NumberOperator(0))"
   ]
  },
  {
   "cell_type": "code",
   "execution_count": 187,
   "id": "changing-costume",
   "metadata": {},
   "outputs": [
    {
     "data": {
      "text/plain": [
       "tensor(0.02761239, requires_grad=True)"
      ]
     },
     "execution_count": 187,
     "metadata": {},
     "output_type": "execute_result"
    }
   ],
   "source": [
    "circuit_photonic(0.2,0.6)"
   ]
  },
  {
   "cell_type": "code",
   "execution_count": 188,
   "id": "referenced-medline",
   "metadata": {},
   "outputs": [],
   "source": [
    "def cost(params):\n",
    "    out1 = np.exp(circuit_qubit(params))\n",
    "    out2 = circuit_photonic(out1,out1 **3)\n",
    "    return np.sum(out2 - out1)"
   ]
  },
  {
   "cell_type": "code",
   "execution_count": 189,
   "id": "specific-country",
   "metadata": {},
   "outputs": [],
   "source": [
    "params = np.array([0.2,0.1,0.3], requires_grad = True)"
   ]
  },
  {
   "cell_type": "code",
   "execution_count": 190,
   "id": "wooden-quick",
   "metadata": {},
   "outputs": [
    {
     "data": {
      "text/plain": [
       "tensor(-0.71576451, requires_grad=True)"
      ]
     },
     "execution_count": 190,
     "metadata": {},
     "output_type": "execute_result"
    }
   ],
   "source": [
    "cost(params)"
   ]
  },
  {
   "cell_type": "code",
   "execution_count": 191,
   "id": "personalized-sunday",
   "metadata": {},
   "outputs": [
    {
     "data": {
      "text/plain": [
       "(array([0.00864645, 0.        , 0.        ]),)"
      ]
     },
     "execution_count": 191,
     "metadata": {},
     "output_type": "execute_result"
    }
   ],
   "source": [
    "qml.grad(cost)(params)"
   ]
  },
  {
   "cell_type": "code",
   "execution_count": null,
   "id": "brutal-reliance",
   "metadata": {},
   "outputs": [],
   "source": []
  }
 ],
 "metadata": {
  "kernelspec": {
   "display_name": "Python 3",
   "language": "python",
   "name": "python3"
  },
  "language_info": {
   "codemirror_mode": {
    "name": "ipython",
    "version": 3
   },
   "file_extension": ".py",
   "mimetype": "text/x-python",
   "name": "python",
   "nbconvert_exporter": "python",
   "pygments_lexer": "ipython3",
   "version": "3.8.5"
  }
 },
 "nbformat": 4,
 "nbformat_minor": 5
}
