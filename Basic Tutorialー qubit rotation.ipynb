{
 "cells": [
  {
   "cell_type": "code",
   "execution_count": 1,
   "id": "continental-plane",
   "metadata": {},
   "outputs": [],
   "source": [
    "import pennylane as qml\n",
    "from pennylane import numpy as np"
   ]
  },
  {
   "cell_type": "code",
   "execution_count": 15,
   "id": "martial-alias",
   "metadata": {},
   "outputs": [],
   "source": [
    "dev1 = qml.device(\"default.qubit\",wires = 1)"
   ]
  },
  {
   "cell_type": "markdown",
   "id": "stable-story",
   "metadata": {},
   "source": [
    "# creating Qnode"
   ]
  },
  {
   "cell_type": "code",
   "execution_count": 16,
   "id": "atomic-assist",
   "metadata": {},
   "outputs": [],
   "source": [
    "@qml.qnode(dev1)\n",
    "def circuit(params):\n",
    "    qml.RX(params[0], wires = 0)\n",
    "    qml.RY(params[1], wires = 0)\n",
    "    return qml.expval(qml.PauliZ(0))"
   ]
  },
  {
   "cell_type": "code",
   "execution_count": 17,
   "id": "polar-booking",
   "metadata": {},
   "outputs": [
    {
     "name": "stdout",
     "output_type": "stream",
     "text": [
      "0.9751703272018162\n"
     ]
    }
   ],
   "source": [
    "print(circuit([0.1,0.2,0.3]))"
   ]
  },
  {
   "cell_type": "markdown",
   "id": "false-nepal",
   "metadata": {},
   "source": [
    "# calculating quantum gradients"
   ]
  },
  {
   "cell_type": "code",
   "execution_count": 18,
   "id": "hungry-suicide",
   "metadata": {},
   "outputs": [],
   "source": [
    "dcircuit = qml.grad(circuit, argnum = 0)"
   ]
  },
  {
   "cell_type": "code",
   "execution_count": 19,
   "id": "selective-temple",
   "metadata": {},
   "outputs": [
    {
     "name": "stdout",
     "output_type": "stream",
     "text": [
      "[array(-0.0978434), array(-0.19767681), array(0.)]\n"
     ]
    }
   ],
   "source": [
    "print(dcircuit([0.1,0.2,0.3]))"
   ]
  },
  {
   "cell_type": "markdown",
   "id": "fixed-candle",
   "metadata": {},
   "source": [
    "# optimisation"
   ]
  },
  {
   "cell_type": "code",
   "execution_count": 20,
   "id": "cleared-valentine",
   "metadata": {},
   "outputs": [],
   "source": [
    "def cost(x):\n",
    "    return circuit(x)\n"
   ]
  },
  {
   "cell_type": "code",
   "execution_count": 21,
   "id": "asian-taylor",
   "metadata": {},
   "outputs": [
    {
     "name": "stdout",
     "output_type": "stream",
     "text": [
      "0.9998675058299389\n"
     ]
    }
   ],
   "source": [
    "init_params = np.array([0.011,0.012])\n",
    "print(cost(init_params))"
   ]
  },
  {
   "cell_type": "code",
   "execution_count": 22,
   "id": "stunning-volume",
   "metadata": {},
   "outputs": [],
   "source": [
    "opt = qml.GradientDescentOptimizer(stepsize = 0.4)"
   ]
  },
  {
   "cell_type": "code",
   "execution_count": 23,
   "id": "southeast-collins",
   "metadata": {},
   "outputs": [],
   "source": [
    "steps = 100"
   ]
  },
  {
   "cell_type": "code",
   "execution_count": 24,
   "id": "ignored-portal",
   "metadata": {},
   "outputs": [],
   "source": [
    "params = init_params"
   ]
  },
  {
   "cell_type": "code",
   "execution_count": 25,
   "id": "quarterly-campaign",
   "metadata": {},
   "outputs": [
    {
     "name": "stdout",
     "output_type": "stream",
     "text": [
      "Cost after step     5:  0.9961778\n",
      "Cost after step    10:  0.8974944\n",
      "Cost after step    15:  0.1440490\n",
      "Cost after step    20: -0.1536720\n",
      "Cost after step    25: -0.9152496\n",
      "Cost after step    30: -0.9994046\n",
      "Cost after step    35: -0.9999964\n",
      "Cost after step    40: -1.0000000\n",
      "Cost after step    45: -1.0000000\n",
      "Cost after step    50: -1.0000000\n",
      "Cost after step    55: -1.0000000\n",
      "Cost after step    60: -1.0000000\n",
      "Cost after step    65: -1.0000000\n",
      "Cost after step    70: -1.0000000\n",
      "Cost after step    75: -1.0000000\n",
      "Cost after step    80: -1.0000000\n",
      "Cost after step    85: -1.0000000\n",
      "Cost after step    90: -1.0000000\n",
      "Cost after step    95: -1.0000000\n",
      "Cost after step   100: -1.0000000\n",
      "Optimised rotation angles: [7.15266381e-18 3.14159265e+00]\n"
     ]
    }
   ],
   "source": [
    "for i in range(steps):\n",
    "    params = opt.step(cost, params)\n",
    "    \n",
    "    if (i + 1) % 5 == 0:\n",
    "        print(\"Cost after step {:5d}: {: .7f}\". format(i + 1, cost(params)))\n",
    "\n",
    "print(\"Optimised rotation angles: {}\".format(params))"
   ]
  },
  {
   "cell_type": "code",
   "execution_count": null,
   "id": "worse-butler",
   "metadata": {},
   "outputs": [],
   "source": []
  }
 ],
 "metadata": {
  "kernelspec": {
   "display_name": "Python 3",
   "language": "python",
   "name": "python3"
  },
  "language_info": {
   "codemirror_mode": {
    "name": "ipython",
    "version": 3
   },
   "file_extension": ".py",
   "mimetype": "text/x-python",
   "name": "python",
   "nbconvert_exporter": "python",
   "pygments_lexer": "ipython3",
   "version": "3.8.5"
  }
 },
 "nbformat": 4,
 "nbformat_minor": 5
}
